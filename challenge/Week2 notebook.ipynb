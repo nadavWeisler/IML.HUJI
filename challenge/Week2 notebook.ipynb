{
 "cells": [
  {
   "cell_type": "code",
   "execution_count": 58,
   "id": "01ec0ca4",
   "metadata": {},
   "outputs": [],
   "source": [
    "import numpy as np\n",
    "import pandas as pd\n",
    "import sklearn\n",
    "from sklearn.ensemble import RandomForestClassifier\n",
    "from sklearn import neural_network, preprocessing\n",
    "from sklearn.preprocessing import StandardScaler\n",
    "np.random.seed(42)\n",
    "from sklearn.model_selection import train_test_split\n",
    "from sklearn.metrics import accuracy_score\n",
    "pd.set_option('max_columns', None)"
   ]
  },
  {
   "cell_type": "code",
   "execution_count": 59,
   "id": "a241d01b",
   "metadata": {},
   "outputs": [],
   "source": [
    "def design_matrix(df):\n",
    "\n",
    "    # one-hot encodings\n",
    "\n",
    "    # label encodings\n",
    "    le_original_payment_type = preprocessing.LabelEncoder()\n",
    "    le_original_payment_type.fit(df.original_payment_type)\n",
    "    df.original_payment_type = le_original_payment_type.transform(df.original_payment_type.values)\n",
    "\n",
    "    le_original_payment_method = preprocessing.LabelEncoder()\n",
    "    le_original_payment_method.fit(df.original_payment_method)\n",
    "    df.original_payment_method = le_original_payment_method.transform(df.original_payment_method.values)\n",
    "\n",
    "    le_charge_option = preprocessing.LabelEncoder()\n",
    "    le_charge_option.fit(df.charge_option)\n",
    "    df.charge_option = le_charge_option.transform(df.charge_option.values)\n",
    "\n",
    "    le_hotel_brand_code = preprocessing.LabelEncoder()\n",
    "    le_hotel_brand_code.fit(df.hotel_brand_code)\n",
    "    df.hotel_brand_code = le_hotel_brand_code.transform(df.hotel_brand_code.values)\n",
    "\n",
    "    le_hotel_chain_code = preprocessing.LabelEncoder()\n",
    "    le_hotel_chain_code.fit(df.hotel_chain_code)\n",
    "    df.hotel_chain_code = le_hotel_chain_code.transform(df.hotel_chain_code.values)\n",
    "\n",
    "    le_hotel_area_code = preprocessing.LabelEncoder()\n",
    "    le_hotel_area_code.fit(df.hotel_area_code)\n",
    "    df.hotel_area_code = le_hotel_area_code.transform(df.hotel_area_code.values)\n",
    "\n",
    "    le_accommadation_type_name = preprocessing.LabelEncoder()\n",
    "    le_accommadation_type_name.fit(df.accommadation_type_name)\n",
    "    df.accommadation_type_name = le_accommadation_type_name.transform(df.accommadation_type_name.values)\n",
    "\n",
    "    le_original_payment_currency = preprocessing.LabelEncoder()\n",
    "    le_original_payment_currency.fit(df.original_payment_currency)\n",
    "    df.original_payment_currency = le_original_payment_currency.transform(df.original_payment_currency.values)\n",
    "\n",
    "    le_customer_nationality = preprocessing.LabelEncoder()\n",
    "    le_customer_nationality.fit(df.customer_nationality)\n",
    "    df.customer_nationality = le_customer_nationality.transform(df.customer_nationality.values)\n",
    "\n",
    "    le_cancellation_policy_code = preprocessing.LabelEncoder()\n",
    "    le_cancellation_policy_code.fit(df.cancellation_policy_code)\n",
    "    df.cancellation_policy_code = le_cancellation_policy_code.transform(df.cancellation_policy_code.values)\n",
    "\n",
    "    le_origin_country_code = preprocessing.LabelEncoder()\n",
    "    le_origin_country_code.fit(df.origin_country_code)\n",
    "    df.origin_country_code = le_origin_country_code.transform(df.origin_country_code.values)\n",
    "\n",
    "    le_hotel_country_code = preprocessing.LabelEncoder()\n",
    "    le_hotel_country_code.fit(df.hotel_country_code)\n",
    "    df.hotel_country_code = le_hotel_country_code.transform(df.hotel_country_code.values)\n",
    "\n",
    "    # booleans\n",
    "    df['is_first_booking'] = df['is_first_booking'].astype(int)\n",
    "    df['is_user_logged_in'] = df['is_user_logged_in'].astype(int)\n",
    "    df[df.request_nonesmoke.isnull()] = 0\n",
    "    df[df.request_earlycheckin.isnull()] = 0\n",
    "    df[df.request_highfloor.isnull()] = 0\n",
    "    df[df.request_largebed.isnull()] = 0\n",
    "    df[df.request_twinbeds.isnull()] = 0\n",
    "    df[df.request_airport.isnull()] = 0\n",
    "    df[df.request_latecheckin.isnull()] = 0\n",
    "\n",
    "    # columns dropped\n",
    "    df.drop(['h_booking_id',\n",
    "             'hotel_id',\n",
    "             'hotel_live_date',\n",
    "             'h_customer_id',\n",
    "             'language',\n",
    "             'hotel_city_code',\n",
    "             'guest_nationality_country_name'\n",
    "             ], axis=1, inplace=True)\n",
    "\n",
    "    # dates\n",
    "    def handle_date(col_name):\n",
    "        df[col_name] = df[col_name].apply(lambda x: np.nan if x == '0000-00-00' or x== np.nan else x)\n",
    "        df[col_name] = pd.to_datetime(df[col_name], errors='coerce')\n",
    "        if col_name != 'cancellation_datetime':\n",
    "            df[col_name + '_month'] = pd.to_numeric(df[col_name].dt.month)\n",
    "            df[col_name + '_date_day'] = pd.to_numeric(df[col_name].dt.day)\n",
    "            df[col_name + '_weekday'] = pd.to_numeric(df[col_name].dt.weekday)\n",
    "            df[col_name + '_year'] = pd.to_numeric(df[col_name].dt.year)\n",
    "            df[col_name + '_quarter'] = pd.to_numeric(df[col_name].dt.quarter)\n",
    "        # print(col_name)\n",
    "        # print(df[col_name])\n",
    "        # # if(col_name!='cancellation_datetime'):\n",
    "        # #     df[col_name + '_epoch'] = df[col_name].apply(lambda x: pd.Timestamp.timestamp(x) - 1500000000 )\n",
    "\n",
    "    handle_date('booking_datetime')\n",
    "    handle_date('checkout_date')\n",
    "    handle_date('checkin_date')\n",
    "    handle_date('cancellation_datetime')\n",
    "\n",
    "    # get date differences\n",
    "    df['sub_checkout_checkin'] = (df['checkout_date'].dt.round('1d') - df['checkin_date'].dt.round('1d')) / np.timedelta64(1, 'D')\n",
    "    df['sub_checkin_booking'] = (df['checkin_date'].dt.round('1d') - df['booking_datetime'].dt.round('1d')) / np.timedelta64(1, 'D')\n",
    "    df[df['sub_checkin_booking'] == -1] = 0\n",
    "\n",
    "    # add feature to check if booking includes weekend\n",
    "    df['bus_days'] = np.busday_count(df['checkin_date'].values.astype('datetime64[D]'), df['checkout_date'].values.astype('datetime64[D]'))\n",
    "    df['weekends'] = df['sub_checkout_checkin'] - df['bus_days']\n",
    "\n",
    "    # clean up\n",
    "    # df.drop(['booking_datetime', 'checkout_date', 'checkin_date'], axis=1, inplace=True)\n",
    "\n",
    "    # df['sub_cancel_checkin'] = (df['cancellation_date'].dt.round('1d') - df['checkin_date'].dt.round('1d')) / np.timedelta64(1, 'D')\n",
    "\n",
    "    return df\n"
   ]
  },
  {
   "cell_type": "code",
   "execution_count": 60,
   "id": "262bf237",
   "metadata": {},
   "outputs": [],
   "source": [
    "def train_classifier_model(X, Y):\n",
    "    # normalize data\n",
    "    scaler = StandardScaler().fit(X)\n",
    "    X = scaler.transform(X)\n",
    "\n",
    "    #fit model\n",
    "    model = sklearn.neural_network.MLPClassifier(random_state=1, max_iter=500, hidden_layer_sizes=(50,10))\n",
    "    model.fit(X, Y)\n",
    "    \n",
    "    # model = neural_network.MLPRegressor\n",
    "\n",
    "    return model\n",
    "\n",
    "def train_regressor_model(X, Y):\n",
    "    # normalize data\n",
    "    scaler = StandardScaler().fit(X)\n",
    "    X = scaler.transform(X)\n",
    "\n",
    "    #fit model\n",
    "    model = sklearn.neural_network.MLPRegressor(random_state=1, max_iter=500, hidden_layer_sizes=(50,10))\n",
    "    model.fit(X, Y)\n",
    "    \n",
    "    # model = neural_network.MLPRegressor\n",
    "\n",
    "    return model"
   ]
  },
  {
   "cell_type": "code",
   "execution_count": 62,
   "id": "6926905a",
   "metadata": {},
   "outputs": [],
   "source": [
    "# Get features\n",
    "train_set = pd.read_csv(\"../datasets/agoda_cancellation_train.csv\")\n",
    "labels = train_set['cancellation_datetime'].isnull().astype(int).replace({0:1, 1:0})\n",
    "# train_set.drop(['cancellation_datetime'], axis=1, inplace=True)\n",
    "features = design_matrix(train_set)\n",
    "features['cancellation_datetime'] = pd.to_datetime(features['cancellation_datetime'], errors='coerce')\n",
    "features['checkout_date'] = pd.to_datetime(features['checkout_date'], errors='coerce')\n",
    "features['checkin_date'] = pd.to_datetime(features['checkin_date'], errors='coerce')\n",
    "features['booking_datetime'] = pd.to_datetime(features['booking_datetime'], errors='coerce')\n"
   ]
  },
  {
   "cell_type": "code",
   "execution_count": 88,
   "metadata": {},
   "outputs": [
    {
     "ename": "KeyError",
     "evalue": "'cancellation_datetime'",
     "output_type": "error",
     "traceback": [
      "\u001b[1;31m---------------------------------------------------------------------------\u001b[0m",
      "\u001b[1;31mKeyError\u001b[0m                                  Traceback (most recent call last)",
      "\u001b[1;32mC:\\ProgramData\\Anaconda3\\lib\\site-packages\\pandas\\core\\indexes\\base.py\u001b[0m in \u001b[0;36mget_loc\u001b[1;34m(self, key, method, tolerance)\u001b[0m\n\u001b[0;32m   3360\u001b[0m             \u001b[1;32mtry\u001b[0m\u001b[1;33m:\u001b[0m\u001b[1;33m\u001b[0m\u001b[1;33m\u001b[0m\u001b[0m\n\u001b[1;32m-> 3361\u001b[1;33m                 \u001b[1;32mreturn\u001b[0m \u001b[0mself\u001b[0m\u001b[1;33m.\u001b[0m\u001b[0m_engine\u001b[0m\u001b[1;33m.\u001b[0m\u001b[0mget_loc\u001b[0m\u001b[1;33m(\u001b[0m\u001b[0mcasted_key\u001b[0m\u001b[1;33m)\u001b[0m\u001b[1;33m\u001b[0m\u001b[1;33m\u001b[0m\u001b[0m\n\u001b[0m\u001b[0;32m   3362\u001b[0m             \u001b[1;32mexcept\u001b[0m \u001b[0mKeyError\u001b[0m \u001b[1;32mas\u001b[0m \u001b[0merr\u001b[0m\u001b[1;33m:\u001b[0m\u001b[1;33m\u001b[0m\u001b[1;33m\u001b[0m\u001b[0m\n",
      "\u001b[1;32mC:\\ProgramData\\Anaconda3\\lib\\site-packages\\pandas\\_libs\\index.pyx\u001b[0m in \u001b[0;36mpandas._libs.index.IndexEngine.get_loc\u001b[1;34m()\u001b[0m\n",
      "\u001b[1;32mC:\\ProgramData\\Anaconda3\\lib\\site-packages\\pandas\\_libs\\index.pyx\u001b[0m in \u001b[0;36mpandas._libs.index.IndexEngine.get_loc\u001b[1;34m()\u001b[0m\n",
      "\u001b[1;32mpandas\\_libs\\hashtable_class_helper.pxi\u001b[0m in \u001b[0;36mpandas._libs.hashtable.PyObjectHashTable.get_item\u001b[1;34m()\u001b[0m\n",
      "\u001b[1;32mpandas\\_libs\\hashtable_class_helper.pxi\u001b[0m in \u001b[0;36mpandas._libs.hashtable.PyObjectHashTable.get_item\u001b[1;34m()\u001b[0m\n",
      "\u001b[1;31mKeyError\u001b[0m: 'cancellation_datetime'",
      "\nThe above exception was the direct cause of the following exception:\n",
      "\u001b[1;31mKeyError\u001b[0m                                  Traceback (most recent call last)",
      "\u001b[1;32m~\\AppData\\Local\\Temp/ipykernel_12852/4057813905.py\u001b[0m in \u001b[0;36m<module>\u001b[1;34m\u001b[0m\n\u001b[0;32m     11\u001b[0m \u001b[1;33m\u001b[0m\u001b[0m\n\u001b[0;32m     12\u001b[0m \u001b[1;31m# SET LABELS\u001b[0m\u001b[1;33m\u001b[0m\u001b[1;33m\u001b[0m\u001b[0m\n\u001b[1;32m---> 13\u001b[1;33m \u001b[0mlabels\u001b[0m \u001b[1;33m=\u001b[0m \u001b[0mget_cancellation_date_diff\u001b[0m\u001b[1;33m(\u001b[0m\u001b[0mfeatures\u001b[0m\u001b[1;33m)\u001b[0m\u001b[1;33m\u001b[0m\u001b[1;33m\u001b[0m\u001b[0m\n\u001b[0m\u001b[0;32m     14\u001b[0m \u001b[1;33m\u001b[0m\u001b[0m\n\u001b[0;32m     15\u001b[0m \u001b[1;31m# features.drop(['cancellation_datetime','booking_datetime', 'checkout_date', 'checkin_date'], axis=1, inplace=True)\u001b[0m\u001b[1;33m\u001b[0m\u001b[1;33m\u001b[0m\u001b[0m\n",
      "\u001b[1;32m~\\AppData\\Local\\Temp/ipykernel_12852/4057813905.py\u001b[0m in \u001b[0;36mget_cancellation_date_diff\u001b[1;34m(df)\u001b[0m\n\u001b[0;32m      1\u001b[0m \u001b[1;31m# cancellation date - booking date\u001b[0m\u001b[1;33m\u001b[0m\u001b[1;33m\u001b[0m\u001b[0m\n\u001b[0;32m      2\u001b[0m \u001b[1;32mdef\u001b[0m \u001b[0mget_cancellation_date_diff\u001b[0m\u001b[1;33m(\u001b[0m\u001b[0mdf\u001b[0m\u001b[1;33m)\u001b[0m\u001b[1;33m:\u001b[0m\u001b[1;33m\u001b[0m\u001b[1;33m\u001b[0m\u001b[0m\n\u001b[1;32m----> 3\u001b[1;33m     \u001b[0mdate_sub\u001b[0m \u001b[1;33m=\u001b[0m \u001b[1;33m(\u001b[0m\u001b[0mdf\u001b[0m\u001b[1;33m[\u001b[0m\u001b[0mdf\u001b[0m\u001b[1;33m[\u001b[0m\u001b[1;34m'cancellation_datetime'\u001b[0m\u001b[1;33m]\u001b[0m\u001b[1;33m.\u001b[0m\u001b[0mnotna\u001b[0m\u001b[1;33m(\u001b[0m\u001b[1;33m)\u001b[0m\u001b[1;33m]\u001b[0m\u001b[1;33m[\u001b[0m\u001b[1;34m'cancellation_datetime'\u001b[0m\u001b[1;33m]\u001b[0m \u001b[1;33m-\u001b[0m \u001b[0mdf\u001b[0m\u001b[1;33m[\u001b[0m\u001b[0mdf\u001b[0m\u001b[1;33m[\u001b[0m\u001b[1;34m'cancellation_datetime'\u001b[0m\u001b[1;33m]\u001b[0m\u001b[1;33m.\u001b[0m\u001b[0mnotna\u001b[0m\u001b[1;33m(\u001b[0m\u001b[1;33m)\u001b[0m\u001b[1;33m]\u001b[0m\u001b[1;33m[\u001b[0m\u001b[1;34m'booking_datetime'\u001b[0m\u001b[1;33m]\u001b[0m\u001b[1;33m)\u001b[0m\u001b[1;33m\u001b[0m\u001b[1;33m\u001b[0m\u001b[0m\n\u001b[0m\u001b[0;32m      4\u001b[0m     \u001b[1;31m# print(date_sub.dt.days)\u001b[0m\u001b[1;33m\u001b[0m\u001b[1;33m\u001b[0m\u001b[0m\n\u001b[0;32m      5\u001b[0m     \u001b[0mno_cancel\u001b[0m \u001b[1;33m=\u001b[0m \u001b[0mdf\u001b[0m\u001b[1;33m[\u001b[0m\u001b[1;34m'cancellation_datetime'\u001b[0m\u001b[1;33m]\u001b[0m\u001b[1;33m.\u001b[0m\u001b[0misnull\u001b[0m\u001b[1;33m(\u001b[0m\u001b[1;33m)\u001b[0m\u001b[1;33m.\u001b[0m\u001b[0mastype\u001b[0m\u001b[1;33m(\u001b[0m\u001b[0mint\u001b[0m\u001b[1;33m)\u001b[0m\u001b[1;33m\u001b[0m\u001b[1;33m\u001b[0m\u001b[0m\n",
      "\u001b[1;32mC:\\ProgramData\\Anaconda3\\lib\\site-packages\\pandas\\core\\frame.py\u001b[0m in \u001b[0;36m__getitem__\u001b[1;34m(self, key)\u001b[0m\n\u001b[0;32m   3456\u001b[0m             \u001b[1;32mif\u001b[0m \u001b[0mself\u001b[0m\u001b[1;33m.\u001b[0m\u001b[0mcolumns\u001b[0m\u001b[1;33m.\u001b[0m\u001b[0mnlevels\u001b[0m \u001b[1;33m>\u001b[0m \u001b[1;36m1\u001b[0m\u001b[1;33m:\u001b[0m\u001b[1;33m\u001b[0m\u001b[1;33m\u001b[0m\u001b[0m\n\u001b[0;32m   3457\u001b[0m                 \u001b[1;32mreturn\u001b[0m \u001b[0mself\u001b[0m\u001b[1;33m.\u001b[0m\u001b[0m_getitem_multilevel\u001b[0m\u001b[1;33m(\u001b[0m\u001b[0mkey\u001b[0m\u001b[1;33m)\u001b[0m\u001b[1;33m\u001b[0m\u001b[1;33m\u001b[0m\u001b[0m\n\u001b[1;32m-> 3458\u001b[1;33m             \u001b[0mindexer\u001b[0m \u001b[1;33m=\u001b[0m \u001b[0mself\u001b[0m\u001b[1;33m.\u001b[0m\u001b[0mcolumns\u001b[0m\u001b[1;33m.\u001b[0m\u001b[0mget_loc\u001b[0m\u001b[1;33m(\u001b[0m\u001b[0mkey\u001b[0m\u001b[1;33m)\u001b[0m\u001b[1;33m\u001b[0m\u001b[1;33m\u001b[0m\u001b[0m\n\u001b[0m\u001b[0;32m   3459\u001b[0m             \u001b[1;32mif\u001b[0m \u001b[0mis_integer\u001b[0m\u001b[1;33m(\u001b[0m\u001b[0mindexer\u001b[0m\u001b[1;33m)\u001b[0m\u001b[1;33m:\u001b[0m\u001b[1;33m\u001b[0m\u001b[1;33m\u001b[0m\u001b[0m\n\u001b[0;32m   3460\u001b[0m                 \u001b[0mindexer\u001b[0m \u001b[1;33m=\u001b[0m \u001b[1;33m[\u001b[0m\u001b[0mindexer\u001b[0m\u001b[1;33m]\u001b[0m\u001b[1;33m\u001b[0m\u001b[1;33m\u001b[0m\u001b[0m\n",
      "\u001b[1;32mC:\\ProgramData\\Anaconda3\\lib\\site-packages\\pandas\\core\\indexes\\base.py\u001b[0m in \u001b[0;36mget_loc\u001b[1;34m(self, key, method, tolerance)\u001b[0m\n\u001b[0;32m   3361\u001b[0m                 \u001b[1;32mreturn\u001b[0m \u001b[0mself\u001b[0m\u001b[1;33m.\u001b[0m\u001b[0m_engine\u001b[0m\u001b[1;33m.\u001b[0m\u001b[0mget_loc\u001b[0m\u001b[1;33m(\u001b[0m\u001b[0mcasted_key\u001b[0m\u001b[1;33m)\u001b[0m\u001b[1;33m\u001b[0m\u001b[1;33m\u001b[0m\u001b[0m\n\u001b[0;32m   3362\u001b[0m             \u001b[1;32mexcept\u001b[0m \u001b[0mKeyError\u001b[0m \u001b[1;32mas\u001b[0m \u001b[0merr\u001b[0m\u001b[1;33m:\u001b[0m\u001b[1;33m\u001b[0m\u001b[1;33m\u001b[0m\u001b[0m\n\u001b[1;32m-> 3363\u001b[1;33m                 \u001b[1;32mraise\u001b[0m \u001b[0mKeyError\u001b[0m\u001b[1;33m(\u001b[0m\u001b[0mkey\u001b[0m\u001b[1;33m)\u001b[0m \u001b[1;32mfrom\u001b[0m \u001b[0merr\u001b[0m\u001b[1;33m\u001b[0m\u001b[1;33m\u001b[0m\u001b[0m\n\u001b[0m\u001b[0;32m   3364\u001b[0m \u001b[1;33m\u001b[0m\u001b[0m\n\u001b[0;32m   3365\u001b[0m         \u001b[1;32mif\u001b[0m \u001b[0mis_scalar\u001b[0m\u001b[1;33m(\u001b[0m\u001b[0mkey\u001b[0m\u001b[1;33m)\u001b[0m \u001b[1;32mand\u001b[0m \u001b[0misna\u001b[0m\u001b[1;33m(\u001b[0m\u001b[0mkey\u001b[0m\u001b[1;33m)\u001b[0m \u001b[1;32mand\u001b[0m \u001b[1;32mnot\u001b[0m \u001b[0mself\u001b[0m\u001b[1;33m.\u001b[0m\u001b[0mhasnans\u001b[0m\u001b[1;33m:\u001b[0m\u001b[1;33m\u001b[0m\u001b[1;33m\u001b[0m\u001b[0m\n",
      "\u001b[1;31mKeyError\u001b[0m: 'cancellation_datetime'"
     ]
    }
   ],
   "source": [
    "# cancellation date - booking date\n",
    "def get_cancellation_date_diff(df): \n",
    "    date_sub = (df[df['cancellation_datetime'].notna()]['cancellation_datetime'] - df[df['cancellation_datetime'].notna()]['booking_datetime'])\n",
    "    # print(date_sub.dt.days)\n",
    "    no_cancel = df['cancellation_datetime'].isnull().astype(int)\n",
    "    no_cancel = no_cancel.replace({0:-1, 1:0})\n",
    "    # print(no_cancel)\n",
    "    # merge date_sub with no_cancel where date_sub is defined\n",
    "    return pd.concat([no_cancel, date_sub.dt.days], axis=1).max(axis=1)\n",
    "\n",
    "\n",
    "# SET LABELS\n",
    "labels = get_cancellation_date_diff(features)\n",
    "\n",
    "features.drop(['cancellation_datetime','booking_datetime', 'checkout_date', 'checkin_date'], axis=1, inplace=True)"
   ]
  },
  {
   "cell_type": "code",
   "execution_count": 91,
   "id": "326a637d",
   "metadata": {},
   "outputs": [
    {
     "data": {
      "text/plain": [
       "4782"
      ]
     },
     "execution_count": 91,
     "metadata": {},
     "output_type": "execute_result"
    }
   ],
   "source": [
    "(labels>0.5).sum()"
   ]
  },
  {
   "cell_type": "code",
   "execution_count": 68,
   "id": "79465d1f",
   "metadata": {},
   "outputs": [],
   "source": [
    "# Seperate training\n",
    "\n",
    "\n",
    "X_train_regressor, X_test_regressor, y_train_regressor, y_test_regressor = train_test_split(\n",
    "    features, labels, test_size=0.2, random_state=42)\n",
    "\n",
    "X_train_classifier, X_test_classifier, y_train_classifier, y_test_classifier = train_test_split(\n",
    "    features, (labels!=0).astype(int), test_size=0.2, random_state=42)\n",
    "\n"
   ]
  },
  {
   "cell_type": "code",
   "execution_count": 45,
   "metadata": {},
   "outputs": [
    {
     "data": {
      "text/plain": [
       "accommadation_type_name      0\n",
       "booking_datetime_date_day    0\n",
       "booking_datetime_month       0\n",
       "booking_datetime_quarter     0\n",
       "booking_datetime_weekday     0\n",
       "booking_datetime_year        0\n",
       "bus_days                     0\n",
       "cancellation_policy_code     0\n",
       "charge_option                0\n",
       "checkin_date_date_day        0\n",
       "checkin_date_month           0\n",
       "checkin_date_quarter         0\n",
       "checkin_date_weekday         0\n",
       "checkin_date_year            0\n",
       "checkout_date_date_day       0\n",
       "checkout_date_month          0\n",
       "checkout_date_quarter        0\n",
       "checkout_date_weekday        0\n",
       "checkout_date_year           0\n",
       "customer_nationality         0\n",
       "guest_is_not_the_customer    0\n",
       "hotel_area_code              0\n",
       "hotel_brand_code             0\n",
       "hotel_chain_code             0\n",
       "hotel_country_code           0\n",
       "hotel_star_rating            0\n",
       "is_first_booking             0\n",
       "is_user_logged_in            0\n",
       "no_of_adults                 0\n",
       "no_of_children               0\n",
       "no_of_extra_bed              0\n",
       "no_of_room                   0\n",
       "origin_country_code          0\n",
       "original_payment_currency    0\n",
       "original_payment_method      0\n",
       "original_payment_type        0\n",
       "original_selling_amount      0\n",
       "request_airport              0\n",
       "request_earlycheckin         0\n",
       "request_highfloor            0\n",
       "request_largebed             0\n",
       "request_latecheckin          0\n",
       "request_nonesmoke            0\n",
       "request_twinbeds             0\n",
       "sub_checkin_booking          0\n",
       "sub_checkout_checkin         0\n",
       "weekends                     0\n",
       "dtype: int64"
      ]
     },
     "execution_count": 45,
     "metadata": {},
     "output_type": "execute_result"
    }
   ],
   "source": [
    "features.isnull().sum().sort_index()"
   ]
  },
  {
   "cell_type": "code",
   "execution_count": 86,
   "metadata": {},
   "outputs": [
    {
     "data": {
      "text/plain": [
       "87692.0"
      ]
     },
     "execution_count": 86,
     "metadata": {},
     "output_type": "execute_result"
    }
   ],
   "source": [
    "y_train_regressor.sum()"
   ]
  },
  {
   "cell_type": "code",
   "execution_count": 84,
   "id": "c97359df",
   "metadata": {},
   "outputs": [
    {
     "name": "stderr",
     "output_type": "stream",
     "text": [
      "C:\\ProgramData\\Anaconda3\\lib\\site-packages\\sklearn\\neural_network\\_multilayer_perceptron.py:619: UserWarning: Training interrupted by user.\n",
      "  warnings.warn(\"Training interrupted by user.\")\n"
     ]
    },
    {
     "name": "stdout",
     "output_type": "stream",
     "text": [
      "54348    0.0\n",
      "19312    0.0\n",
      "12945    0.0\n",
      "48989    0.0\n",
      "23534    0.0\n",
      "        ... \n",
      "54343    0.0\n",
      "38158    0.0\n",
      "860      0.0\n",
      "15795    0.0\n",
      "56422    0.0\n",
      "Length: 46927, dtype: float64\n"
     ]
    }
   ],
   "source": [
    "# Training\n",
    "model_regressor = train_regressor_model(X_train_regressor, y_train_regressor)\n",
    "print(y_train_regressor)\n",
    "model_classifier = train_classifier_model(X_train_classifier, y_train_classifier)"
   ]
  },
  {
   "cell_type": "code",
   "execution_count": 83,
   "id": "50376438",
   "metadata": {},
   "outputs": [
    {
     "name": "stdout",
     "output_type": "stream",
     "text": [
      "Accuracy of regressor model: 0.8880838731674053\n",
      "[-1013.31652248  -594.0407381   -594.0407381  ...  -635.70032601\n",
      " -9636.64985436 -3625.37044564]\n"
     ]
    }
   ],
   "source": [
    "# Model accuracy\n",
    "y_class_pred= model_classifier.predict(X_test_classifier)\n",
    "# print(f'Accuracy of classifier model: {accuracy_score(y_test_classifier, y_pred)}')\n",
    "y_reg_predict = model_regressor.predict(X_test_regressor)>0.5\n",
    "# accuracy of regressor model\n",
    "print(f'Accuracy of regressor model: {accuracy_score(y_test_regressor, y_reg_predict)}')\n",
    "# sklearn.metrics.mean_squared_error(y_test_regressor, model_regressor.predict(X_test_regressor))\n",
    "\n",
    "print(model_regressor.predict(X_test_regressor))\n"
   ]
  },
  {
   "cell_type": "code",
   "execution_count": 120,
   "id": "7b27ea04",
   "metadata": {},
   "outputs": [
    {
     "name": "stdout",
     "output_type": "stream",
     "text": [
      "booking_datetime\n",
      "checkout_date\n",
      "checkin_date\n",
      "cancellation_datetime\n"
     ]
    },
    {
     "ename": "AttributeError",
     "evalue": "'Timedelta' object has no attribute 'dt'",
     "output_type": "error",
     "traceback": [
      "\u001b[1;31m---------------------------------------------------------------------------\u001b[0m",
      "\u001b[1;31mAttributeError\u001b[0m                            Traceback (most recent call last)",
      "\u001b[1;32m~\\AppData\\Local\\Temp/ipykernel_22940/2418548427.py\u001b[0m in \u001b[0;36m<module>\u001b[1;34m\u001b[0m\n\u001b[0;32m      9\u001b[0m \u001b[1;32mfor\u001b[0m \u001b[0mi\u001b[0m \u001b[1;32min\u001b[0m \u001b[0mrange\u001b[0m\u001b[1;33m(\u001b[0m\u001b[0mlen\u001b[0m\u001b[1;33m(\u001b[0m\u001b[0mfeatures\u001b[0m\u001b[1;33m)\u001b[0m\u001b[1;33m)\u001b[0m\u001b[1;33m:\u001b[0m\u001b[1;33m\u001b[0m\u001b[1;33m\u001b[0m\u001b[0m\n\u001b[0;32m     10\u001b[0m     \u001b[1;32mif\u001b[0m\u001b[1;33m(\u001b[0m\u001b[0mpd\u001b[0m\u001b[1;33m.\u001b[0m\u001b[0mnotnull\u001b[0m\u001b[1;33m(\u001b[0m\u001b[0mfeatures\u001b[0m\u001b[1;33m[\u001b[0m\u001b[1;34m'cancellation_datetime'\u001b[0m\u001b[1;33m]\u001b[0m\u001b[1;33m[\u001b[0m\u001b[0mi\u001b[0m\u001b[1;33m]\u001b[0m\u001b[1;33m)\u001b[0m\u001b[1;33m)\u001b[0m\u001b[1;33m:\u001b[0m\u001b[1;33m\u001b[0m\u001b[1;33m\u001b[0m\u001b[0m\n\u001b[1;32m---> 11\u001b[1;33m         \u001b[0msub_checkout_cancelation\u001b[0m\u001b[1;33m.\u001b[0m\u001b[0mappend\u001b[0m\u001b[1;33m(\u001b[0m\u001b[1;33m(\u001b[0m\u001b[0mfeatures\u001b[0m\u001b[1;33m[\u001b[0m\u001b[1;34m'cancellation_datetime'\u001b[0m\u001b[1;33m]\u001b[0m\u001b[1;33m[\u001b[0m\u001b[0mi\u001b[0m\u001b[1;33m]\u001b[0m\u001b[1;33m-\u001b[0m\u001b[0mfeatures\u001b[0m\u001b[1;33m[\u001b[0m\u001b[1;34m'booking_datetime'\u001b[0m\u001b[1;33m]\u001b[0m\u001b[1;33m[\u001b[0m\u001b[0mi\u001b[0m\u001b[1;33m]\u001b[0m\u001b[1;33m)\u001b[0m\u001b[1;33m.\u001b[0m\u001b[0mdt\u001b[0m\u001b[1;33m.\u001b[0m\u001b[0mdays\u001b[0m\u001b[1;33m)\u001b[0m\u001b[1;33m\u001b[0m\u001b[1;33m\u001b[0m\u001b[0m\n\u001b[0m\u001b[0;32m     12\u001b[0m     \u001b[1;32melse\u001b[0m\u001b[1;33m:\u001b[0m\u001b[1;33m\u001b[0m\u001b[1;33m\u001b[0m\u001b[0m\n\u001b[0;32m     13\u001b[0m         \u001b[0msub_checkout_cancelation\u001b[0m\u001b[1;33m.\u001b[0m\u001b[0mappend\u001b[0m\u001b[1;33m(\u001b[0m\u001b[1;36m0\u001b[0m\u001b[1;33m)\u001b[0m\u001b[1;33m\u001b[0m\u001b[1;33m\u001b[0m\u001b[0m\n",
      "\u001b[1;31mAttributeError\u001b[0m: 'Timedelta' object has no attribute 'dt'"
     ]
    }
   ],
   "source": [
    "# Load data\n",
    "train_set = pd.read_csv(\"../datasets/agoda_cancellation_train.csv\")\n",
    "\n",
    "# train_set.drop(['cancellation_datetime'], axis=1, inplace=True)\n",
    "features = design_matrix(train_set)\n",
    "sub_checkout_cancelation = []\n",
    "labels = features['cancellation_datetime'].isnull().astype(int)\n",
    "features['cancellation_datetime'] = pd.to_datetime(features['cancellation_datetime'], errors='coerce')\n",
    "for i in range(len(features)):\n",
    "    if(pd.notnull(features['cancellation_datetime'][i])):\n",
    "        sub_checkout_cancelation.append((features['cancellation_datetime'][i]-features['booking_datetime'][i]).dt.days)\n",
    "    else:\n",
    "        sub_checkout_cancelation.append(0)\n",
    "   "
   ]
  },
  {
   "cell_type": "code",
   "execution_count": 38,
   "id": "bed5e02b",
   "metadata": {},
   "outputs": [
    {
     "data": {
      "text/plain": [
       "0.7375554040231844"
      ]
     },
     "execution_count": 38,
     "metadata": {},
     "output_type": "execute_result"
    }
   ],
   "source": [
    "# train model\n",
    "classifier = train_model(X_train, y_train)\n",
    "y_pred = classifier.predict(X_test)\n",
    "accuracy_score(y_test, y_pred)\n",
    "# # How many people canceled after one week\n",
    "# canceled_after_one_week = features[features['sub_checkout_checkin'] == 1]"
   ]
  },
  {
   "cell_type": "code",
   "execution_count": 11,
   "id": "e7386f36",
   "metadata": {},
   "outputs": [
    {
     "data": {
      "text/plain": [
       "0.8571428571428571"
      ]
     },
     "execution_count": 11,
     "metadata": {},
     "output_type": "execute_result"
    }
   ],
   "source": [
    "# load predicted data\n",
    "predicted = pd.read_csv(\"predicted_results.csv\")\n",
    "actual = pd.read_csv(\"actual_results.csv\")\n",
    "\n",
    "actual = actual['label'].str.strip().str[-1].astype(int)\n",
    "\n",
    "predicted =  predicted.replace({0:1, 1:0})\n",
    "\n",
    "# calculate predicted accuracy\n",
    "accuracy_score(actual, predicted)\n"
   ]
  }
 ],
 "metadata": {
  "kernelspec": {
   "display_name": "Python 3 (ipykernel)",
   "language": "python",
   "name": "python3"
  },
  "language_info": {
   "codemirror_mode": {
    "name": "ipython",
    "version": 3
   },
   "file_extension": ".py",
   "mimetype": "text/x-python",
   "name": "python",
   "nbconvert_exporter": "python",
   "pygments_lexer": "ipython3",
   "version": "3.9.7"
  }
 },
 "nbformat": 4,
 "nbformat_minor": 5
}
